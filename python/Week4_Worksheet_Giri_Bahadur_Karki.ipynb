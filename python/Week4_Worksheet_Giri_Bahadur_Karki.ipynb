{
  "nbformat": 4,
  "nbformat_minor": 0,
  "metadata": {
    "colab": {
      "provenance": []
    },
    "kernelspec": {
      "name": "python3",
      "display_name": "Python 3"
    },
    "language_info": {
      "name": "python"
    }
  },
  "cells": [
    {
      "cell_type": "markdown",
      "source": [],
      "metadata": {
        "id": "SBZJQhh-iWcP"
      }
    },
    {
      "cell_type": "code",
      "source": [
        "# Imports\n",
        "import pandas as pd\n",
        "from sklearn.preprocessing import StandardScaler\n",
        "import time\n",
        "import matplotlib.pyplot as plt\n",
        "import numpy as np"
      ],
      "metadata": {
        "id": "8jWCICvIiXFX"
      },
      "execution_count": 2,
      "outputs": []
    },
    {
      "cell_type": "markdown",
      "source": [
        "# Problem - 1: Perform a classification task with knn from scratch.\n",
        "**1. Load the Dataset:**\n",
        "\n",
        "• Read the dataset into a pandas DataFrame.\n",
        "\n",
        "• Display the first few rows and perform exploratory data analysis (EDA) to understand the dataset\n",
        "(e.g., check data types, missing values, summary statistics)."
      ],
      "metadata": {
        "id": "9ZqBaMpRh9Lm"
      }
    },
    {
      "cell_type": "code",
      "execution_count": 6,
      "metadata": {
        "id": "YQpSCwLdVjg_",
        "colab": {
          "base_uri": "https://localhost:8080/"
        },
        "outputId": "fb3bbd4d-ddff-4fd3-ed22-71340218f33e"
      },
      "outputs": [
        {
          "output_type": "stream",
          "name": "stdout",
          "text": [
            "First few rows of the dataset:\n",
            "   Pregnancies  Glucose  BloodPressure  SkinThickness  Insulin   BMI  \\\n",
            "0            6      148             72             35        0  33.6   \n",
            "1            1       85             66             29        0  26.6   \n",
            "2            8      183             64              0        0  23.3   \n",
            "3            1       89             66             23       94  28.1   \n",
            "4            0      137             40             35      168  43.1   \n",
            "\n",
            "   DiabetesPedigreeFunction  Age  Outcome  \n",
            "0                     0.627   50        1  \n",
            "1                     0.351   31        0  \n",
            "2                     0.672   32        1  \n",
            "3                     0.167   21        0  \n",
            "4                     2.288   33        1  \n",
            "\n",
            "Data Types:\n",
            "Pregnancies                   int64\n",
            "Glucose                       int64\n",
            "BloodPressure                 int64\n",
            "SkinThickness                 int64\n",
            "Insulin                       int64\n",
            "BMI                         float64\n",
            "DiabetesPedigreeFunction    float64\n",
            "Age                           int64\n",
            "Outcome                       int64\n",
            "dtype: object\n",
            "\n",
            "Missing Values:\n",
            "Pregnancies                 0\n",
            "Glucose                     0\n",
            "BloodPressure               0\n",
            "SkinThickness               0\n",
            "Insulin                     0\n",
            "BMI                         0\n",
            "DiabetesPedigreeFunction    0\n",
            "Age                         0\n",
            "Outcome                     0\n",
            "dtype: int64\n",
            "\n",
            "Summary Statistics:\n",
            "       Pregnancies     Glucose  BloodPressure  SkinThickness     Insulin  \\\n",
            "count   768.000000  768.000000     768.000000     768.000000  768.000000   \n",
            "mean      3.845052  120.894531      69.105469      20.536458   79.799479   \n",
            "std       3.369578   31.972618      19.355807      15.952218  115.244002   \n",
            "min       0.000000    0.000000       0.000000       0.000000    0.000000   \n",
            "25%       1.000000   99.000000      62.000000       0.000000    0.000000   \n",
            "50%       3.000000  117.000000      72.000000      23.000000   30.500000   \n",
            "75%       6.000000  140.250000      80.000000      32.000000  127.250000   \n",
            "max      17.000000  199.000000     122.000000      99.000000  846.000000   \n",
            "\n",
            "              BMI  DiabetesPedigreeFunction         Age     Outcome  \n",
            "count  768.000000                768.000000  768.000000  768.000000  \n",
            "mean    31.992578                  0.471876   33.240885    0.348958  \n",
            "std      7.884160                  0.331329   11.760232    0.476951  \n",
            "min      0.000000                  0.078000   21.000000    0.000000  \n",
            "25%     27.300000                  0.243750   24.000000    0.000000  \n",
            "50%     32.000000                  0.372500   29.000000    0.000000  \n",
            "75%     36.600000                  0.626250   41.000000    1.000000  \n",
            "max     67.100000                  2.420000   81.000000    1.000000  \n"
          ]
        }
      ],
      "source": [
        "# 1. Loaded the Dataset:\n",
        "file_path = \"/content/drive/MyDrive/Dataset/Copy of diabetes.csv\"\n",
        "df = pd.read_csv(file_path);\n",
        "# • Displaying the first few rows and perform exploratory data analysis (EDA) to understand the dataset\n",
        "# (e.g., check data types, missing values, summary statistics).\n",
        "print(\"First few rows of the dataset:\")\n",
        "print(df.head())\n",
        "\n",
        "print(\"\\nData Types:\")\n",
        "print(df.dtypes)\n",
        "\n",
        "print(\"\\nMissing Values:\")\n",
        "print(df.isnull().sum())\n",
        "\n",
        "print(\"\\nSummary Statistics:\")\n",
        "print(df.describe())"
      ]
    },
    {
      "cell_type": "markdown",
      "source": [
        "**2. Handle Missing Data:**\n",
        "\n",
        "• Handle any missing values appropriately, either by dropping or imputing them based on the data."
      ],
      "metadata": {
        "id": "4ZPWDWDOjwX3"
      }
    },
    {
      "cell_type": "code",
      "source": [
        "# Handling any missing values appropriately, either by dropping or imputing them based on the data.\n",
        "print(\"Missing Values Before Handling:\")\n",
        "print(df.isnull().sum())\n",
        "\n",
        "df_cleaned = df.dropna()\n",
        "\n",
        "print(\"\\nMissing Values After Handling:\")\n",
        "print(df_cleaned.isnull().sum())"
      ],
      "metadata": {
        "colab": {
          "base_uri": "https://localhost:8080/"
        },
        "id": "GsDUl0kqj8AJ",
        "outputId": "e8413ec3-a252-4c13-b65c-f7f998f9a851"
      },
      "execution_count": 7,
      "outputs": [
        {
          "output_type": "stream",
          "name": "stdout",
          "text": [
            "Missing Values Before Handling:\n",
            "Pregnancies                 0\n",
            "Glucose                     0\n",
            "BloodPressure               0\n",
            "SkinThickness               0\n",
            "Insulin                     0\n",
            "BMI                         0\n",
            "DiabetesPedigreeFunction    0\n",
            "Age                         0\n",
            "Outcome                     0\n",
            "dtype: int64\n",
            "\n",
            "Missing Values After Handling:\n",
            "Pregnancies                 0\n",
            "Glucose                     0\n",
            "BloodPressure               0\n",
            "SkinThickness               0\n",
            "Insulin                     0\n",
            "BMI                         0\n",
            "DiabetesPedigreeFunction    0\n",
            "Age                         0\n",
            "Outcome                     0\n",
            "dtype: int64\n"
          ]
        }
      ]
    },
    {
      "cell_type": "markdown",
      "source": [
        "**3. Feature Engineering:**\n",
        "\n",
        "• Separate the feature matrix (X) and target variable (y).\n",
        "\n",
        "• Perform a train - test split from scratch using a 70% − 30% ratio."
      ],
      "metadata": {
        "id": "UG5Apn-LkBVf"
      }
    },
    {
      "cell_type": "code",
      "source": [
        "# Separating the feature matrix (X) and target variable (y).\n",
        "X = df_cleaned.drop(columns=['Outcome'])\n",
        "y = df_cleaned['Outcome']\n",
        "\n",
        "# To perform a train - test split from scratch using a 70% − 30% ratio.\n",
        "split_index = int(0.7 * len(X))\n",
        "\n",
        "shuffled_indices = np.random.permutation(len(X))\n",
        "X = X.iloc[shuffled_indices]\n",
        "y = y.iloc[shuffled_indices]\n",
        "\n",
        "# Spliting the data\n",
        "X_train, X_test = X[:split_index], X[split_index:]\n",
        "y_train, y_test = y[:split_index], y[split_index:]\n",
        "\n",
        "print(\"Shape of Training Features (X_train):\", X_train.shape)\n",
        "print(\"Shape of Training Target (y_train):\", y_train.shape)\n",
        "print(\"Shape of Testing Features (X_test):\", X_test.shape)\n",
        "print(\"Shape of Testing Target (y_test):\", y_test.shape)"
      ],
      "metadata": {
        "colab": {
          "base_uri": "https://localhost:8080/"
        },
        "id": "yqBRFPcEkHbs",
        "outputId": "cdc4498b-82af-4609-e997-a6fb8433ca9b"
      },
      "execution_count": 8,
      "outputs": [
        {
          "output_type": "stream",
          "name": "stdout",
          "text": [
            "Shape of Training Features (X_train): (537, 8)\n",
            "Shape of Training Target (y_train): (537,)\n",
            "Shape of Testing Features (X_test): (231, 8)\n",
            "Shape of Testing Target (y_test): (231,)\n"
          ]
        }
      ]
    },
    {
      "cell_type": "markdown",
      "source": [
        "**4. Implement KNN:**\n",
        "\n",
        "• Build the KNN algorithm from scratch (no libraries like sickit-learn for KNN).\n",
        "\n",
        "• Compute distances using Euclidean distance.\n",
        "\n",
        "• Write functions for:\n",
        "\n",
        "    – Predicting the class for a single query.\n",
        "\n",
        "    – Predicting classes for all test samples.\n",
        "\n",
        "• Evaluate the performance using accuracy."
      ],
      "metadata": {
        "id": "rLKK0FP2kopX"
      }
    },
    {
      "cell_type": "code",
      "source": [
        "# function to find the euclidean distance\n",
        "def euclidean_distance(x1, x2):\n",
        "    return np.sqrt(np.sum((x1 - x2) ** 2))\n",
        "\n",
        "# – Predicting the class for a single query.\n",
        "def predict_single(query_point, X_train, y_train, k):\n",
        "    distances = []\n",
        "    for i in range(len(X_train)):\n",
        "        dist = euclidean_distance(query_point, X_train[i])\n",
        "        distances.append((dist, y_train[i]))\n",
        "    distances.sort(key=lambda x: x[0])\n",
        "    k_neighbors = [neighbor[1] for neighbor in distances[:k]]\n",
        "\n",
        "    return max(set(k_neighbors), key=k_neighbors.count)\n",
        "\n",
        "# – Predicting classes for all test samples.\n",
        "def predict(X_test, X_train, y_train, k):\n",
        "    predictions = []\n",
        "    for query_point in X_test:\n",
        "        pred = predict_single(query_point, X_train, y_train, k)\n",
        "        predictions.append(pred)\n",
        "    return np.array(predictions)\n",
        "\n",
        "# To evaluate the performance using accuracy.\n",
        "def evaluate_accuracy(y_test, y_pred):\n",
        "    return np.mean(y_test == y_pred)\n",
        "\n",
        "X_train_np = X_train.to_numpy()\n",
        "y_train_np = y_train.to_numpy()\n",
        "X_test_np = X_test.to_numpy()\n",
        "y_test_np = y_test.to_numpy()\n",
        "\n",
        "k = 3\n",
        "y_pred = predict(X_test_np, X_train_np, y_train_np, k)\n",
        "accuracy = evaluate_accuracy(y_test_np, y_pred)\n",
        "\n",
        "print(f\"Accuracy of KNN classifier with k={k}: {accuracy:.2f}\")"
      ],
      "metadata": {
        "colab": {
          "base_uri": "https://localhost:8080/"
        },
        "id": "K88s0FMAlNss",
        "outputId": "5268056b-bbf8-4ac9-d0a0-cfec82ac6baa"
      },
      "execution_count": 9,
      "outputs": [
        {
          "output_type": "stream",
          "name": "stdout",
          "text": [
            "Accuracy of KNN classifier with k=3: 0.74\n"
          ]
        }
      ]
    },
    {
      "cell_type": "markdown",
      "source": [
        "# Problem - 2 - Experimentation:\n",
        "**1. Repeat the Classification Task:**\n",
        "\n",
        "• Scale the Feature matrix X.\n",
        "\n",
        "• Use the scaled data for training and testing the kNN Classifier.\n",
        "\n",
        "• Record the results."
      ],
      "metadata": {
        "id": "9FX92nS1ldFj"
      }
    },
    {
      "cell_type": "code",
      "source": [
        "# To scale the Feature matrix X.\n",
        "scaler = StandardScaler()\n",
        "X_train_scaled = scaler.fit_transform(X_train)\n",
        "X_test_scaled = scaler.transform(X_test)\n",
        "\n",
        "#To use the scaled data for training and testing the kNN Classifier.\n",
        "y_pred_scaled = predict(X_test_scaled, X_train_scaled, y_train_np, k)\n",
        "\n",
        "accuracy_scaled = evaluate_accuracy(y_test_np, y_pred_scaled)\n",
        "\n",
        "print(f\"Accuracy of KNN classifier with k={k} on scaled data: {accuracy_scaled:.2f}\")"
      ],
      "metadata": {
        "colab": {
          "base_uri": "https://localhost:8080/"
        },
        "id": "hlX1Zqg3lkVc",
        "outputId": "1d44053b-f9a5-41b2-edf8-4cbff27624fa"
      },
      "execution_count": 10,
      "outputs": [
        {
          "output_type": "stream",
          "name": "stdout",
          "text": [
            "Accuracy of KNN classifier with k=3 on scaled data: 0.74\n"
          ]
        }
      ]
    },
    {
      "cell_type": "markdown",
      "source": [
        "**2. Comparative Analysis: Compare the Results -**\n",
        "• Compare the accuracy and performance of the kNN model on the original dataset from problem 1\n",
        "versus the scaled dataset.\n",
        "\n",
        "• Discuss:\n",
        "\n",
        "– How scaling impacted the KNN performance.\n",
        "\n",
        "– The reason for any observed changes in accuracy."
      ],
      "metadata": {
        "id": "5Bch2hGol4-e"
      }
    },
    {
      "cell_type": "code",
      "source": [
        "\n",
        "# To compare the accuracy and performance of the kNN model on the original dataset from problem 1 versus the scaled dataset.\n",
        "y_pred_original = predict(X_test_np, X_train_np, y_train_np, k)\n",
        "accuracy_original = evaluate_accuracy(y_test_np, y_pred_original)\n",
        "\n",
        "print(f\"Accuracy of KNN classifier with k={k} on original data: {accuracy_original:.2f}\")\n",
        "print(f\"Accuracy of KNN classifier with k={k} on scaled data: {accuracy_scaled:.2f}\")"
      ],
      "metadata": {
        "colab": {
          "base_uri": "https://localhost:8080/"
        },
        "id": "XnoesP0zmH66",
        "outputId": "8de9d032-4036-46df-95b1-5cca84794631"
      },
      "execution_count": 11,
      "outputs": [
        {
          "output_type": "stream",
          "name": "stdout",
          "text": [
            "Accuracy of KNN classifier with k=3 on original data: 0.74\n",
            "Accuracy of KNN classifier with k=3 on scaled data: 0.74\n"
          ]
        }
      ]
    },
    {
      "cell_type": "markdown",
      "source": [
        "# Problem - 3 - Experimentation with k:\n",
        "**1. Vary the number of neighbors - k:**\n",
        "\n",
        "• Run the KNN model on both the original and scaled datasets for a range of:\n",
        "\n",
        "k= 1, 2, 3, . . . 15\n",
        "\n",
        "• For each k, record:\n",
        "\n",
        "– Accuracy.\n",
        "\n",
        "– Time taken to make predictions."
      ],
      "metadata": {
        "id": "oK4-Q-mimM81"
      }
    },
    {
      "cell_type": "code",
      "source": [
        "import time\n",
        "# To vary the number of neighbors - k:\n",
        "\n",
        "k_values = list(range(1, 16))  # k values from 1 to 15\n",
        "accuracy_original = []\n",
        "accuracy_scaled = []\n",
        "time_original = []\n",
        "time_scaled = []\n",
        "\n",
        "# k= 1, 2, 3, . . . 15\n",
        "# For each k, record:\n",
        "\n",
        "for k in k_values:\n",
        "    # Time for original data\n",
        "    start_time = time.time()\n",
        "    y_pred_original = predict(X_test_np, X_train_np, y_train_np, k)\n",
        "    time_taken_original = time.time() - start_time\n",
        "    accuracy_original.append(evaluate_accuracy(y_test_np, y_pred_original))\n",
        "    time_original.append(time_taken_original)\n",
        "\n",
        "    # Time for scaled data\n",
        "    start_time = time.time()\n",
        "    y_pred_scaled = predict(X_test_scaled, X_train_scaled, y_train_np, k)\n",
        "    time_taken_scaled = time.time() - start_time\n",
        "    accuracy_scaled.append(evaluate_accuracy(y_test_np, y_pred_scaled))\n",
        "    time_scaled.append(time_taken_scaled)\n",
        "\n",
        "    # To print progress every 5 steps to check status\n",
        "    if k % 5 == 0:\n",
        "        print(f\"Completed k={k}...\")\n",
        "\n",
        "print(f\"Length of k_values: {len(k_values)}\")\n",
        "print(f\"Length of time_scaled: {len(time_scaled)}\")\n",
        "\n",
        "print(\"k\\tAccuracy (Original)\\tTime (Original)\\tAccuracy (Scaled)\\tTime (Scaled)\")\n",
        "for k, acc_orig, time_orig, acc_scaled, time_scaled in zip(k_values, accuracy_original, time_original, accuracy_scaled, time_scaled):\n",
        "    print(f\"{k}\\t{acc_orig:.4f}\\t\\t{time_orig:.4f}\\t\\t{acc_scaled:.4f}\\t\\t{time_scaled:.4f}\")\n"
      ],
      "metadata": {
        "colab": {
          "base_uri": "https://localhost:8080/"
        },
        "id": "O2M0zzwQmWN8",
        "outputId": "26ad8328-9d7a-47ea-8f34-1c62a024fc1c"
      },
      "execution_count": 12,
      "outputs": [
        {
          "output_type": "stream",
          "name": "stdout",
          "text": [
            "Completed k=5...\n",
            "Completed k=10...\n",
            "Completed k=15...\n",
            "Length of k_values: 15\n",
            "Length of time_scaled: 15\n",
            "k\tAccuracy (Original)\tTime (Original)\tAccuracy (Scaled)\tTime (Scaled)\n",
            "1\t0.6883\t\t0.9192\t\t0.7100\t\t0.9018\n",
            "2\t0.7186\t\t0.8823\t\t0.7100\t\t0.8941\n",
            "3\t0.7403\t\t0.9004\t\t0.7359\t\t0.8901\n",
            "4\t0.7403\t\t1.3918\t\t0.7359\t\t0.8874\n",
            "5\t0.7143\t\t0.8839\t\t0.7359\t\t0.8910\n",
            "6\t0.7316\t\t1.3683\t\t0.7273\t\t1.5456\n",
            "7\t0.7359\t\t1.5825\t\t0.7143\t\t0.9380\n",
            "8\t0.7619\t\t0.8910\t\t0.7013\t\t0.8985\n",
            "9\t0.7359\t\t0.8940\t\t0.7229\t\t0.9044\n",
            "10\t0.7576\t\t0.8824\t\t0.7403\t\t0.9003\n",
            "11\t0.7576\t\t0.9070\t\t0.7446\t\t0.8976\n",
            "12\t0.7576\t\t0.8947\t\t0.7619\t\t0.8998\n",
            "13\t0.7316\t\t1.3949\t\t0.7662\t\t1.5301\n",
            "14\t0.7489\t\t1.5688\t\t0.7706\t\t0.9213\n",
            "15\t0.7446\t\t0.8879\t\t0.7662\t\t0.8914\n"
          ]
        }
      ]
    },
    {
      "cell_type": "markdown",
      "source": [
        "**2. Visualize the Results:**\n",
        "• Plot the following graphs:\n",
        "\n",
        "– k vs. Accuracy for original and scaled datasets.\n",
        "\n",
        "– k vs. Time Taken for original and scaled datasets."
      ],
      "metadata": {
        "id": "Kw72s2YQmZRC"
      }
    },
    {
      "cell_type": "code",
      "source": [
        "\n",
        "# To plot for k vs. Accuracy for original and scaled datasets.\n",
        "plt.figure(figsize=(10, 6))\n",
        "plt.plot(k_values, accuracy_original, label=\"Accuracy (Original)\", color='blue', marker='o')\n",
        "plt.plot(k_values, accuracy_scaled, label=\"Accuracy (Scaled)\", color='green', marker='x')\n",
        "plt.title(\"k vs Accuracy\")\n",
        "plt.xlabel(\"k (Number of Neighbors)\")\n",
        "plt.ylabel(\"Accuracy\")\n",
        "plt.legend()\n",
        "plt.grid(True)\n",
        "plt.show()\n"
      ],
      "metadata": {
        "colab": {
          "base_uri": "https://localhost:8080/",
          "height": 564
        },
        "id": "wTGfxuE_mevx",
        "outputId": "8342c8b5-54d9-4806-e831-dbe43f3e2741"
      },
      "execution_count": 13,
      "outputs": [
        {
          "output_type": "display_data",
          "data": {
            "text/plain": [
              "<Figure size 1000x600 with 1 Axes>"
            ],
            "image/png": "[encoded data removed]"
          },
          "metadata": {}
        }
      ]
    },
    {
      "cell_type": "markdown",
      "source": [
        "3. Analyze and Discuss:\n",
        "• Discuss how the choice of k affects the accuracy and computational cost.\n",
        "• Identify the optimal k based on your analysis."
      ],
      "metadata": {
        "id": "YsGArLxxmgT1"
      }
    },
    {
      "cell_type": "code",
      "source": [
        "optimal_k = k_values[np.argmax(accuracy_scaled)]\n",
        "print(f\"The optimal k based on scaled data accuracy is {optimal_k}.\")"
      ],
      "metadata": {
        "colab": {
          "base_uri": "https://localhost:8080/"
        },
        "id": "EMfctLWEPTUu",
        "outputId": "bc0b52f1-2f85-47a5-9933-40bd40ef17d5"
      },
      "execution_count": 14,
      "outputs": [
        {
          "output_type": "stream",
          "name": "stdout",
          "text": [
            "The optimal k based on scaled data accuracy is 14.\n"
          ]
        }
      ]
    }
  ]
}