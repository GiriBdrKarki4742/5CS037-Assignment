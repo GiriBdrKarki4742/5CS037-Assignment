{
  "nbformat": 4,
  "nbformat_minor": 0,
  "metadata": {
    "colab": {
      "provenance": []
    },
    "kernelspec": {
      "name": "python3",
      "display_name": "Python 3"
    },
    "language_info": {
      "name": "python"
    }
  },
  "cells": [
    {
      "cell_type": "code",
      "source": [
        "import numpy as np\n",
        " # Create and display zero , one , and n- dimensional arrays\n",
        "zero_dim_array = np . array (5)\n",
        "one_dim_array = np . array ([1 , 2 , 3])\n",
        "n_dim_array = np . array ([[1 , 2] , [3 , 4]])\n",
        "for arr in [ zero_dim_array , one_dim_array , n_dim_array ]:\n",
        "    print(f\" Array :\\n{arr }\\ nDimension : {arr. ndim }\\ nData type :{arr. dtype }\\n\")"
      ],
      "metadata": {
        "colab": {
          "base_uri": "https://localhost:8080/"
        },
        "id": "YyRzKwN7fJqV",
        "outputId": "5db132a5-804e-43aa-ab55-ae33bb0471d1"
      },
      "execution_count": 2,
      "outputs": [
        {
          "output_type": "stream",
          "name": "stdout",
          "text": [
            " Array :\n",
            "5\\ nDimension : 0\\ nData type :int64\n",
            "\n",
            " Array :\n",
            "[1 2 3]\\ nDimension : 1\\ nData type :int64\n",
            "\n",
            " Array :\n",
            "[[1 2]\n",
            " [3 4]]\\ nDimension : 2\\ nData type :int64\n",
            "\n"
          ]
        }
      ]
    },
    {
      "cell_type": "code",
      "source": [
        "import numpy as np\n",
        "# Create arrays of different dimensions\n",
        "array_0d = np . array (5)\n",
        "array_1d = np . array ([1 , 2 , 3 , 4 , 5])\n",
        "array_2d = np . array ([[1 , 2 , 3] , [4 , 5 , 6]])\n",
        "array_3d = np . array ([[[1 , 2] , [3 , 4]] , [[5 , 6] , [7 ,8]]])\n",
        " # Print arrays with shapes\n",
        "for i , arr in enumerate ([ array_0d , array_1d , array_2d ,array_3d ]) :\n",
        "     print ( f\"{i}D Array :\\n{arr }\\ nShape : {arr. shape }\\n\")"
      ],
      "metadata": {
        "colab": {
          "base_uri": "https://localhost:8080/"
        },
        "id": "ZWk1cFDJgF7z",
        "outputId": "66836a8c-c3ee-499d-f149-f72ee0179e1e"
      },
      "execution_count": null,
      "outputs": [
        {
          "output_type": "stream",
          "name": "stdout",
          "text": [
            "0D Array :\n",
            "5\\ nShape : ()\n",
            "\n",
            "1D Array :\n",
            "[1 2 3 4 5]\\ nShape : (5,)\n",
            "\n",
            "2D Array :\n",
            "[[1 2 3]\n",
            " [4 5 6]]\\ nShape : (2, 3)\n",
            "\n",
            "3D Array :\n",
            "[[[1 2]\n",
            "  [3 4]]\n",
            "\n",
            " [[5 6]\n",
            "  [7 8]]]\\ nShape : (2, 2, 2)\n",
            "\n"
          ]
        }
      ]
    },
    {
      "cell_type": "code",
      "source": [
        "import numpy as np\n",
        "array = np . array ([[1 , 2 , 3] , [4 , 5 , 6]]) # Shape (2 , 3)\n",
        "reshaped_array = array . reshape (3 , 2) # Reshape to (3 ,) , keeping 6 elements\n",
        "print (\" Original Shape :\", array . shape , \"\\ nReshaped Shape :\", reshaped_array . shape )\n",
        "# # Expected Outputs :\n",
        "# Original Shape : (2 , 3)\n",
        "# Reshaped Shape : (3 , 2)"
      ],
      "metadata": {
        "colab": {
          "base_uri": "https://localhost:8080/"
        },
        "id": "mjD9uoOXhzXt",
        "outputId": "69d7dfd2-9f49-430e-a75f-2e4396c4673d"
      },
      "execution_count": null,
      "outputs": [
        {
          "output_type": "stream",
          "name": "stdout",
          "text": [
            " Original Shape : (2, 3) \\ nReshaped Shape : (3, 2)\n"
          ]
        }
      ]
    },
    {
      "cell_type": "code",
      "source": [
        "import numpy as np\n",
        "a = np . arange (1 , 10)\n",
        "print ( a )\n",
        "x = range (1 , 10)\n",
        "print ( x ) # x is an iterator\n",
        "print ( list ( x ) )\n",
        "# further arange examples :\n",
        "x = np . arange (10.4)\n",
        "print ( x )\n",
        "x = np . arange (0.5 , 10.4 , 0.8)\n",
        "print ( x)"
      ],
      "metadata": {
        "colab": {
          "base_uri": "https://localhost:8080/"
        },
        "id": "Lp8uqWuai470",
        "outputId": "798cd9a3-2a74-4f3c-bd72-0c2e6c9b97af"
      },
      "execution_count": null,
      "outputs": [
        {
          "output_type": "stream",
          "name": "stdout",
          "text": [
            "[1 2 3 4 5 6 7 8 9]\n",
            "range(1, 10)\n",
            "[1, 2, 3, 4, 5, 6, 7, 8, 9]\n",
            "[ 0.  1.  2.  3.  4.  5.  6.  7.  8.  9. 10.]\n",
            "[ 0.5  1.3  2.1  2.9  3.7  4.5  5.3  6.1  6.9  7.7  8.5  9.3 10.1]\n"
          ]
        }
      ]
    },
    {
      "cell_type": "code",
      "source": [
        "import numpy as np\n",
        "arr1 = np . array ([[1 , 2] , [3 , 4]]) # Shape : (2 , 2)\n",
        "arr2 = np . array ([[5 , 6] , [7 , 8]]) # Shape : (2 , 2)\n",
        "# Stacking examples\n",
        "hstacked = np . hstack (( arr1 , arr2 ) )\n",
        "# Output hstack : [[1 2 5 6] [3 4 7 8]]\n",
        "vstacked = np . vstack (( arr1 , arr2 ) )\n",
        "# Output vstack [[1 2] [3 4] [5 6] [7 8]]\n",
        "colstacked = np . column_stack (( arr1 [0] , arr2 [0]) )\n",
        "# Output column stack : [[1 5] [2 6]]\n",
        "print( hstacked , vstacked , colstacked , sep =\"\\n\\n\")"
      ],
      "metadata": {
        "id": "40sizNOPpLvq"
      },
      "execution_count": null,
      "outputs": []
    },
    {
      "cell_type": "code",
      "source": [
        "import numpy as np\n",
        "# 50 values between 1 and 10:\n",
        "print ( np . linspace (1 , 10) )\n",
        "# 7 values between 1 and 10:\n",
        "print ( np . linspace (1 , 10 , 7) )\n",
        "# excluding the endpoint :\n",
        "print ( np . linspace (1 , 10 , 7 , endpoint = False ) )"
      ],
      "metadata": {
        "id": "YkTggxrEkWbY"
      },
      "execution_count": null,
      "outputs": []
    },
    {
      "cell_type": "markdown",
      "source": [
        "1. Initialize an empty array with size 2X2."
      ],
      "metadata": {
        "id": "BaFIl6OD0Ap8"
      }
    },
    {
      "cell_type": "code",
      "source": [
        "import numpy as np\n",
        "\n",
        "empty_array = np.empty((2, 2))\n",
        "print(empty_array)"
      ],
      "metadata": {
        "colab": {
          "base_uri": "https://localhost:8080/"
        },
        "id": "o-X8z1wX0EnO",
        "outputId": "1a356a4a-ffa0-4269-9c45-871bba5222cd"
      },
      "execution_count": null,
      "outputs": [
        {
          "output_type": "stream",
          "name": "stdout",
          "text": [
            "[[4.99772206e-310 0.00000000e+000]\n",
            " [0.00000000e+000 0.00000000e+000]]\n"
          ]
        }
      ]
    },
    {
      "cell_type": "markdown",
      "source": [
        "2. Initialize an all one array with size 4X2."
      ],
      "metadata": {
        "id": "7lqGq5mJ0eL9"
      }
    },
    {
      "cell_type": "code",
      "source": [
        "import numpy as np\n",
        "\n",
        "ones_array = np.ones((4, 2))\n",
        "print(ones_array)"
      ],
      "metadata": {
        "colab": {
          "base_uri": "https://localhost:8080/"
        },
        "id": "yldAMIyV0iS1",
        "outputId": "e57e410c-2ffe-441a-8661-8adae74d550a"
      },
      "execution_count": null,
      "outputs": [
        {
          "output_type": "stream",
          "name": "stdout",
          "text": [
            "[[1. 1.]\n",
            " [1. 1.]\n",
            " [1. 1.]\n",
            " [1. 1.]]\n"
          ]
        }
      ]
    },
    {
      "cell_type": "markdown",
      "source": [
        "3. Return a new array of given shape and type, filled with fill value.{Hint: np.full}"
      ],
      "metadata": {
        "id": "JZQ9L4xK0ymM"
      }
    },
    {
      "cell_type": "code",
      "source": [
        "import numpy as np\n",
        "\n",
        "fill_value_array = np.full((3, 3), 3)\n",
        "print(fill_value_array)"
      ],
      "metadata": {
        "colab": {
          "base_uri": "https://localhost:8080/"
        },
        "id": "aCAquL931EsP",
        "outputId": "ec4b60a8-fd59-43fe-84b6-2914eba72d7d"
      },
      "execution_count": null,
      "outputs": [
        {
          "output_type": "stream",
          "name": "stdout",
          "text": [
            "[[3 3 3]\n",
            " [3 3 3]\n",
            " [3 3 3]]\n"
          ]
        }
      ]
    },
    {
      "cell_type": "markdown",
      "source": [
        "4. Return a new array of zeros with same shape and type as a given array.{Hint: np.zeros like}"
      ],
      "metadata": {
        "id": "grBpNVHP1QCT"
      }
    },
    {
      "cell_type": "code",
      "source": [
        "import numpy as np\n",
        "\n",
        "given_array = np.array([[4, 5, 1], [8, 3, 9]])\n",
        "zeros_like_array = np.zeros_like(given_array)\n",
        "print(zeros_like_array)"
      ],
      "metadata": {
        "colab": {
          "base_uri": "https://localhost:8080/"
        },
        "id": "TW_mWa6n1bNa",
        "outputId": "14239de7-266a-46bb-a4b4-c8352f26df3b"
      },
      "execution_count": null,
      "outputs": [
        {
          "output_type": "stream",
          "name": "stdout",
          "text": [
            "[[0 0 0]\n",
            " [0 0 0]]\n"
          ]
        }
      ]
    },
    {
      "cell_type": "markdown",
      "source": [
        "5. Return a new array of ones with same shape and type as a given array.{Hint: np.ones like}"
      ],
      "metadata": {
        "id": "P6RlTe591xhP"
      }
    },
    {
      "cell_type": "code",
      "source": [
        "import numpy as np\n",
        "\n",
        "given_array = np.array([[10, 20, 30], [40, 50, 60]])\n",
        "ones_like_array = np.ones_like(given_array)\n",
        "\n",
        "print(ones_like_array)"
      ],
      "metadata": {
        "colab": {
          "base_uri": "https://localhost:8080/"
        },
        "id": "xsZr3IGE102r",
        "outputId": "3d4fd68c-ee6b-40f8-f1b0-1b0b8d1835f4"
      },
      "execution_count": null,
      "outputs": [
        {
          "output_type": "stream",
          "name": "stdout",
          "text": [
            "[[1 1 1]\n",
            " [1 1 1]]\n"
          ]
        }
      ]
    },
    {
      "cell_type": "markdown",
      "source": [
        "6. For an existing list new_list = [1,2,3,4] convert to an numpy array.{Hint: np.array()}"
      ],
      "metadata": {
        "id": "aLjNyiWu2ESx"
      }
    },
    {
      "cell_type": "code",
      "source": [
        "import numpy as np\n",
        "\n",
        "new_list = [1, 2, 3, 4]\n",
        "numpy_array = np.array(new_list)\n",
        "print(numpy_array)"
      ],
      "metadata": {
        "colab": {
          "base_uri": "https://localhost:8080/"
        },
        "id": "94v-jfF-2MmK",
        "outputId": "aad1def4-c205-4708-bff8-0655c4f8f22e"
      },
      "execution_count": null,
      "outputs": [
        {
          "output_type": "stream",
          "name": "stdout",
          "text": [
            "[1 2 3 4]\n"
          ]
        }
      ]
    },
    {
      "cell_type": "markdown",
      "source": [
        "**4.1.1 Problem - 2: Array Manipulation: Numerical Ranges and Array indexing:**"
      ],
      "metadata": {
        "id": "4XcxU14u2cKQ"
      }
    },
    {
      "cell_type": "markdown",
      "source": [
        "1. Create an array with values ranging from 10 to 49. {Hint:np.arrange()}."
      ],
      "metadata": {
        "id": "9b-inONK2nxT"
      }
    },
    {
      "cell_type": "code",
      "source": [
        "import numpy as np\n",
        "\n",
        "array_range = np.arange(10, 50)\n",
        "print(array_range)"
      ],
      "metadata": {
        "colab": {
          "base_uri": "https://localhost:8080/"
        },
        "id": "WR2MowuR2rE2",
        "outputId": "f86eee3b-fe80-430f-cc70-b693829102eb"
      },
      "execution_count": null,
      "outputs": [
        {
          "output_type": "stream",
          "name": "stdout",
          "text": [
            "[10 11 12 13 14 15 16 17 18 19 20 21 22 23 24 25 26 27 28 29 30 31 32 33\n",
            " 34 35 36 37 38 39 40 41 42 43 44 45 46 47 48 49]\n"
          ]
        }
      ]
    },
    {
      "cell_type": "markdown",
      "source": [
        "2. Create a 3X3 matrix with values ranging from 0 to 8.\n",
        "{Hint:look for np.reshape()}"
      ],
      "metadata": {
        "id": "sVzXtM3w30Sr"
      }
    },
    {
      "cell_type": "code",
      "source": [
        "import numpy as np\n",
        "\n",
        "array = np.arange(9)\n",
        "matrix = array.reshape(3, 3)\n",
        "print(matrix)"
      ],
      "metadata": {
        "colab": {
          "base_uri": "https://localhost:8080/"
        },
        "id": "8s5j4LQs33dF",
        "outputId": "8a2d151a-4c21-4dca-bafe-6750ade31dc2"
      },
      "execution_count": null,
      "outputs": [
        {
          "output_type": "stream",
          "name": "stdout",
          "text": [
            "[[0 1 2]\n",
            " [3 4 5]\n",
            " [6 7 8]]\n"
          ]
        }
      ]
    },
    {
      "cell_type": "markdown",
      "source": [
        "3. Create a 3X3 identity matrix.{Hint:np.eye()}"
      ],
      "metadata": {
        "id": "c564dJPl3-cG"
      }
    },
    {
      "cell_type": "code",
      "source": [
        "import numpy as np\n",
        "\n",
        "identity_matrix = np.eye(3)\n",
        "print(identity_matrix)"
      ],
      "metadata": {
        "colab": {
          "base_uri": "https://localhost:8080/"
        },
        "id": "oy6ZjxVX4VoY",
        "outputId": "5bfc0296-0241-42f3-f902-a439d8498d18"
      },
      "execution_count": null,
      "outputs": [
        {
          "output_type": "stream",
          "name": "stdout",
          "text": [
            "[[1. 0. 0.]\n",
            " [0. 1. 0.]\n",
            " [0. 0. 1.]]\n"
          ]
        }
      ]
    },
    {
      "cell_type": "markdown",
      "source": [
        "4. Create a random array of size 30 and find the mean of the array.\n",
        "{Hint:check for np.random.random() and array.mean() function}"
      ],
      "metadata": {
        "id": "l_I65r-G4cEe"
      }
    },
    {
      "cell_type": "code",
      "source": [
        "import numpy as np\n",
        "random_array = np.random.random(30) #random.random(size) generate number between 0 and 1.\n",
        "mean_value = random_array.mean()\n",
        "\n",
        "print(\"Random Array:\", random_array)\n",
        "print(\"Mean of the Array:\", mean_value)"
      ],
      "metadata": {
        "colab": {
          "base_uri": "https://localhost:8080/"
        },
        "id": "Y2-8rYLD_x-_",
        "outputId": "480a25c5-b610-42bb-edb6-20050eacf069"
      },
      "execution_count": null,
      "outputs": [
        {
          "output_type": "stream",
          "name": "stdout",
          "text": [
            "Random Array: [0.18449895 0.69539408 0.91049485 0.76522678 0.66893615 0.53398146\n",
            " 0.40154306 0.94866648 0.40279748 0.9959159  0.27144545 0.02837225\n",
            " 0.55325234 0.99482    0.91597912 0.82101091 0.38260613 0.07532685\n",
            " 0.68676981 0.11867665 0.16809472 0.06527527 0.48579181 0.71887692\n",
            " 0.42658441 0.86999945 0.46030955 0.11800351 0.98679246 0.83601882]\n",
            "Mean of the Array: 0.5497153877052549\n"
          ]
        }
      ]
    },
    {
      "cell_type": "markdown",
      "source": [
        "5. Create a 10X10 array with random values and find the minimum and maximum values."
      ],
      "metadata": {
        "id": "lZAhEVG8AfFC"
      }
    },
    {
      "cell_type": "code",
      "source": [
        "import numpy as np\n",
        "\n",
        "random_array = np.random.random((10, 10))\n",
        "\n",
        "min_value = random_array.min()\n",
        "max_value = random_array.max()\n",
        "\n",
        "print(\"Random Array:\", random_array)\n",
        "print(random_array)\n",
        "print(\"Minimum Value:\", min_value)\n",
        "print(\"Maximum Value:\", max_value)\n"
      ],
      "metadata": {
        "colab": {
          "base_uri": "https://localhost:8080/"
        },
        "id": "2XembFR1AhKy",
        "outputId": "b5754ab1-467a-41ba-91ab-e249772113dd"
      },
      "execution_count": null,
      "outputs": [
        {
          "output_type": "stream",
          "name": "stdout",
          "text": [
            "Random Array: [[3.41244233e-02 8.60566471e-01 8.72531737e-01 9.03090312e-01\n",
            "  7.40548700e-01 7.76378459e-01 8.84734332e-01 9.38726679e-01\n",
            "  9.46648231e-01 2.46203011e-01]\n",
            " [7.80137510e-01 8.26082900e-01 1.83563663e-01 3.24915975e-01\n",
            "  2.44527918e-01 9.35574737e-01 6.48228007e-02 6.47565048e-01\n",
            "  9.48189151e-01 6.51566527e-01]\n",
            " [7.36237116e-01 3.39828114e-01 5.24194370e-02 2.63439345e-02\n",
            "  1.78724865e-04 9.23399379e-01 4.93743942e-03 7.01706384e-01\n",
            "  8.73839255e-01 3.50706624e-01]\n",
            " [3.32404278e-01 3.13984444e-01 3.97839775e-01 8.59622717e-01\n",
            "  7.98657029e-01 3.99525307e-01 4.28670449e-01 6.75857983e-03\n",
            "  3.89795716e-01 9.93565379e-02]\n",
            " [8.91499931e-01 9.78002013e-01 2.65803104e-01 2.25984863e-01\n",
            "  4.95946058e-01 8.68871727e-01 9.48565359e-01 9.93998352e-01\n",
            "  6.31873491e-01 7.22155783e-01]\n",
            " [8.94847182e-02 6.02123735e-01 4.22856986e-01 1.59815148e-01\n",
            "  7.42697631e-03 9.33545749e-01 1.48900922e-01 3.16368448e-01\n",
            "  5.98483983e-01 5.70933222e-01]\n",
            " [9.28400314e-01 7.99915412e-01 6.30446120e-02 5.56846522e-01\n",
            "  3.00144255e-01 5.46044246e-01 9.86095560e-01 3.29846470e-01\n",
            "  8.64986587e-01 1.73131094e-01]\n",
            " [5.15376050e-01 6.32705864e-01 1.23061497e-01 5.88350198e-01\n",
            "  5.36097203e-01 2.31152374e-01 9.29970999e-02 2.74013824e-01\n",
            "  9.41343768e-01 2.91992047e-01]\n",
            " [2.98188106e-01 7.42594547e-01 9.42088552e-01 2.80292329e-01\n",
            "  1.80118031e-01 6.79682825e-01 9.03225206e-01 1.05166591e-01\n",
            "  1.22450392e-01 8.10103704e-01]\n",
            " [7.02541486e-01 2.81530467e-01 6.90494201e-01 5.53529217e-03\n",
            "  5.85146702e-02 9.65872447e-01 4.41932567e-01 1.09008540e-01\n",
            "  6.68763034e-01 7.43106273e-01]]\n",
            "[[3.41244233e-02 8.60566471e-01 8.72531737e-01 9.03090312e-01\n",
            "  7.40548700e-01 7.76378459e-01 8.84734332e-01 9.38726679e-01\n",
            "  9.46648231e-01 2.46203011e-01]\n",
            " [7.80137510e-01 8.26082900e-01 1.83563663e-01 3.24915975e-01\n",
            "  2.44527918e-01 9.35574737e-01 6.48228007e-02 6.47565048e-01\n",
            "  9.48189151e-01 6.51566527e-01]\n",
            " [7.36237116e-01 3.39828114e-01 5.24194370e-02 2.63439345e-02\n",
            "  1.78724865e-04 9.23399379e-01 4.93743942e-03 7.01706384e-01\n",
            "  8.73839255e-01 3.50706624e-01]\n",
            " [3.32404278e-01 3.13984444e-01 3.97839775e-01 8.59622717e-01\n",
            "  7.98657029e-01 3.99525307e-01 4.28670449e-01 6.75857983e-03\n",
            "  3.89795716e-01 9.93565379e-02]\n",
            " [8.91499931e-01 9.78002013e-01 2.65803104e-01 2.25984863e-01\n",
            "  4.95946058e-01 8.68871727e-01 9.48565359e-01 9.93998352e-01\n",
            "  6.31873491e-01 7.22155783e-01]\n",
            " [8.94847182e-02 6.02123735e-01 4.22856986e-01 1.59815148e-01\n",
            "  7.42697631e-03 9.33545749e-01 1.48900922e-01 3.16368448e-01\n",
            "  5.98483983e-01 5.70933222e-01]\n",
            " [9.28400314e-01 7.99915412e-01 6.30446120e-02 5.56846522e-01\n",
            "  3.00144255e-01 5.46044246e-01 9.86095560e-01 3.29846470e-01\n",
            "  8.64986587e-01 1.73131094e-01]\n",
            " [5.15376050e-01 6.32705864e-01 1.23061497e-01 5.88350198e-01\n",
            "  5.36097203e-01 2.31152374e-01 9.29970999e-02 2.74013824e-01\n",
            "  9.41343768e-01 2.91992047e-01]\n",
            " [2.98188106e-01 7.42594547e-01 9.42088552e-01 2.80292329e-01\n",
            "  1.80118031e-01 6.79682825e-01 9.03225206e-01 1.05166591e-01\n",
            "  1.22450392e-01 8.10103704e-01]\n",
            " [7.02541486e-01 2.81530467e-01 6.90494201e-01 5.53529217e-03\n",
            "  5.85146702e-02 9.65872447e-01 4.41932567e-01 1.09008540e-01\n",
            "  6.68763034e-01 7.43106273e-01]]\n",
            "Minimum Value: 0.00017872486485359662\n",
            "Maximum Value: 0.9939983521762303\n"
          ]
        }
      ]
    },
    {
      "cell_type": "markdown",
      "source": [
        "6. Create a zero array of size 10 and replace 5th element with 1."
      ],
      "metadata": {
        "id": "mb-V0mo2BF2J"
      }
    },
    {
      "cell_type": "code",
      "source": [
        "import numpy as np\n",
        "\n",
        "zero_array = np.zeros(10)\n",
        "zero_array[4] = 1\n",
        "\n",
        "print(zero_array)\n"
      ],
      "metadata": {
        "colab": {
          "base_uri": "https://localhost:8080/"
        },
        "id": "K4rZomSUBFcT",
        "outputId": "f964340b-6622-4ce3-8848-71c2ed8cc889"
      },
      "execution_count": null,
      "outputs": [
        {
          "output_type": "stream",
          "name": "stdout",
          "text": [
            "[0. 0. 0. 0. 1. 0. 0. 0. 0. 0.]\n"
          ]
        }
      ]
    },
    {
      "cell_type": "markdown",
      "source": [
        "7. Reverse an array arr = [1,2,0,0,4,0]."
      ],
      "metadata": {
        "id": "wxcsZ-vQBb-H"
      }
    },
    {
      "cell_type": "code",
      "source": [
        "import numpy as np\n",
        "\n",
        "arr = np.array([1, 2, 0, 0, 4, 0])\n",
        "reversed_array = arr[::-1] # we can reverse using slicing method where arr[::-1] -1 will reverse the order\n",
        "\n",
        "print(reversed_array)"
      ],
      "metadata": {
        "colab": {
          "base_uri": "https://localhost:8080/"
        },
        "id": "Bonj9WnNBfjm",
        "outputId": "fb4ee5d5-2c20-4e0f-ae1e-de58af9d54fb"
      },
      "execution_count": null,
      "outputs": [
        {
          "output_type": "stream",
          "name": "stdout",
          "text": [
            "[0 4 0 0 2 1]\n"
          ]
        }
      ]
    },
    {
      "cell_type": "markdown",
      "source": [
        "8. Create a 2d array with 1 on border and 0 inside."
      ],
      "metadata": {
        "id": "VzmiXhalGk0r"
      }
    },
    {
      "cell_type": "code",
      "source": [
        "import numpy as np\n",
        "\n",
        "array = np.ones((3, 3))\n",
        "array[1:-1, 1:-1] = 0\n",
        "\n",
        "print(array)"
      ],
      "metadata": {
        "colab": {
          "base_uri": "https://localhost:8080/"
        },
        "id": "l2kozxfNG3t5",
        "outputId": "bb5bbe48-c6b2-413d-909f-ba9b89357875"
      },
      "execution_count": null,
      "outputs": [
        {
          "output_type": "stream",
          "name": "stdout",
          "text": [
            "[[1. 1. 1.]\n",
            " [1. 0. 1.]\n",
            " [1. 1. 1.]]\n"
          ]
        }
      ]
    },
    {
      "cell_type": "markdown",
      "source": [
        "9. Create a 8X8 matrix and fill it with a checkerboard pattern."
      ],
      "metadata": {
        "id": "Ol1NGXD4HRuS"
      }
    },
    {
      "cell_type": "code",
      "source": [
        "import numpy as np\n",
        "\n",
        "checkerboard = np.zeros((8, 8))\n",
        "\n",
        "checkerboard[1::2, ::2] = 1  # It will set 1's at every other column starting from row 1\n",
        "checkerboard[::2, 1::2] = 1  # It will set 1's at every other row starting from column 1\n",
        "\n",
        "print(checkerboard)"
      ],
      "metadata": {
        "colab": {
          "base_uri": "https://localhost:8080/"
        },
        "id": "fEqKyOQfHTWD",
        "outputId": "0eac4349-f554-4b2e-836d-b3ce83d9783f"
      },
      "execution_count": null,
      "outputs": [
        {
          "output_type": "stream",
          "name": "stdout",
          "text": [
            "[[0. 1. 0. 1. 0. 1. 0. 1.]\n",
            " [1. 0. 1. 0. 1. 0. 1. 0.]\n",
            " [0. 1. 0. 1. 0. 1. 0. 1.]\n",
            " [1. 0. 1. 0. 1. 0. 1. 0.]\n",
            " [0. 1. 0. 1. 0. 1. 0. 1.]\n",
            " [1. 0. 1. 0. 1. 0. 1. 0.]\n",
            " [0. 1. 0. 1. 0. 1. 0. 1.]\n",
            " [1. 0. 1. 0. 1. 0. 1. 0.]]\n"
          ]
        }
      ]
    },
    {
      "cell_type": "markdown",
      "source": [
        "**Problem - 3: Array Operations:**\n",
        "\n",
        "For the following arrays:\n",
        "x = np.array([[1,2],[3,5]]) and y = np.array([[5,6],[7,8]]);\n",
        "v = np.array([9,10]) and w = np.array([11,12]);\n",
        "Complete all the task using numpy:"
      ],
      "metadata": {
        "id": "NygVPxxrHoSn"
      }
    },
    {
      "cell_type": "code",
      "source": [
        "import numpy as np\n",
        "\n",
        "# Given arrays\n",
        "x = np.array([[1, 2], [3, 5]])\n",
        "y = np.array([[5, 6], [7, 8]])\n",
        "v = np.array([9, 10])\n",
        "w = np.array([11, 12])\n",
        "\n",
        "# 1. Add the two arrays (x + y, v + w)\n",
        "add_result_xy = x + y\n",
        "print(\"Addition of x and y:\")\n",
        "print(add_result_xy)\n",
        "\n",
        "add_result_vw = v + w\n",
        "print(\"Addition of v and w:\")\n",
        "print(add_result_vw)\n",
        "\n",
        "# 2. Subtract the two arrays (x - y, v - w)\n",
        "subtract_result_xy = x - y\n",
        "print(\"Subtraction of x and y:\")\n",
        "print(subtract_result_xy)\n",
        "\n",
        "subtract_result_vw = v - w\n",
        "print(\"Subtraction of v and w:\")\n",
        "print(subtract_result_vw)\n"
      ],
      "metadata": {
        "colab": {
          "base_uri": "https://localhost:8080/"
        },
        "id": "fzQ9vP7xHwg9",
        "outputId": "293fc7a9-2627-4935-adf6-04db621b2f58"
      },
      "execution_count": null,
      "outputs": [
        {
          "output_type": "stream",
          "name": "stdout",
          "text": [
            "Addition of x and y:\n",
            "[[ 6  8]\n",
            " [10 13]]\n",
            "Addition of v and w:\n",
            "[20 22]\n",
            "Subtraction of x and y:\n",
            "[[-4 -4]\n",
            " [-4 -3]]\n",
            "Subtraction of v and w:\n",
            "[-2 -2]\n"
          ]
        }
      ]
    },
    {
      "cell_type": "markdown",
      "source": [
        "3. Multiply the array with any integers of your choice."
      ],
      "metadata": {
        "id": "tsA-pne4IVk9"
      }
    },
    {
      "cell_type": "code",
      "source": [
        "import numpy as np\n",
        "\n",
        "x_multiplied = x * 2\n",
        "print(\"x multiplied by 2:\")\n",
        "print(x_multiplied)\n",
        "\n",
        "v_multiplied = v * 4\n",
        "print(\"v multiplied by 4:\")\n",
        "print(v_multiplied)"
      ],
      "metadata": {
        "colab": {
          "base_uri": "https://localhost:8080/"
        },
        "id": "yo_KMhqsIX5-",
        "outputId": "2f548ff0-3e1a-427f-a5a9-34c4716788b8"
      },
      "execution_count": null,
      "outputs": [
        {
          "output_type": "stream",
          "name": "stdout",
          "text": [
            "x multiplied by 2:\n",
            "[[ 2  4]\n",
            " [ 6 10]]\n",
            "v multiplied by 4:\n",
            "[36 40]\n"
          ]
        }
      ]
    },
    {
      "cell_type": "markdown",
      "source": [
        "4. Find the square of each element of the array."
      ],
      "metadata": {
        "id": "zK2YVdr_J4sx"
      }
    },
    {
      "cell_type": "code",
      "source": [
        "import numpy as np\n",
        "\n",
        "x_squared = x ** 2\n",
        "y_squared = y ** 2\n",
        "v_squared = v ** 2\n",
        "w_squared = w ** 2\n",
        "\n",
        "\n",
        "print(\"Squared elements of x:\", x_squared)\n",
        "print(\"Squared elements of y:\", y_squared)\n",
        "print(\"Squared elements of v:\", v_squared)\n",
        "print(\"Squared elements of w:\", w_squared)"
      ],
      "metadata": {
        "colab": {
          "base_uri": "https://localhost:8080/"
        },
        "id": "OOF3YNHeKAzJ",
        "outputId": "6aecce2f-36b7-4214-d56a-727863afa51f"
      },
      "execution_count": null,
      "outputs": [
        {
          "output_type": "stream",
          "name": "stdout",
          "text": [
            "Squared elements of x: [[ 1  4]\n",
            " [ 9 25]]\n",
            "Squared elements of y: [[25 36]\n",
            " [49 64]]\n",
            "Squared elements of v: [ 81 100]\n",
            "Squared elements of w: [121 144]\n"
          ]
        }
      ]
    },
    {
      "cell_type": "markdown",
      "source": [
        "5. Find the dot product between: v(and)w ; x(and)v ; x(and)y."
      ],
      "metadata": {
        "id": "R1V0jqkgKl8x"
      }
    },
    {
      "cell_type": "code",
      "source": [
        "import numpy as np\n",
        "# We can find dot product using np.dot(array1 , array2) function\n",
        "dot_vw = np.dot(v, w)\n",
        "print(\"Dot product of v and w:\", dot_vw)\n",
        "\n",
        "dot_xv = np.dot(x, v)\n",
        "print(\"Dot product of x and v:\", dot_xv)\n",
        "\n",
        "dot_xy = np.dot(x, y)\n",
        "print(\"Dot product of x and y:\", dot_xy)\n"
      ],
      "metadata": {
        "colab": {
          "base_uri": "https://localhost:8080/"
        },
        "id": "7-fYk12kK13i",
        "outputId": "ea4d70df-5d97-4cf3-8aba-e16e5426185f"
      },
      "execution_count": null,
      "outputs": [
        {
          "output_type": "stream",
          "name": "stdout",
          "text": [
            "Dot product of v and w: 219\n",
            "Dot product of x and v: [29 77]\n",
            "Dot product of x and y: [[19 22]\n",
            " [50 58]]\n"
          ]
        }
      ]
    },
    {
      "cell_type": "markdown",
      "source": [
        "6. Concatenate x(and)y along row and Concatenate v(and)w along column.\n",
        "{Hint:try np.concatenate() or np.vstack() functions."
      ],
      "metadata": {
        "id": "prLr6F1bLV4g"
      }
    },
    {
      "cell_type": "code",
      "source": [
        "import numpy as np\n",
        "# We can use np.concatenate((array1, array2), axis=0) where axis 0 will concatenate along rows\n",
        "concat_xy_rows = np.concatenate((x, y), axis=0)\n",
        "print(\"Concatenated x and y along rows:\")\n",
        "print(concat_xy_rows)\n",
        "\n",
        "#  We need to first reshape v and w into column vectors\n",
        "v_col = v.reshape(-1, 1)\n",
        "w_col = w.reshape(-1, 1)\n",
        "\n",
        "# We can use np.concatenate((array1, array2), axis=1) where axis 1 will concatenate along columns\n",
        "concat_vw_columns = np.concatenate((v_col, w_col), axis=1)\n",
        "print(\"Concatenated v and w along columns:\")\n",
        "print(concat_vw_columns)"
      ],
      "metadata": {
        "colab": {
          "base_uri": "https://localhost:8080/"
        },
        "id": "wnObcEfBLZXl",
        "outputId": "3f309c34-7c5c-464c-ae2a-418bd612f497"
      },
      "execution_count": null,
      "outputs": [
        {
          "output_type": "stream",
          "name": "stdout",
          "text": [
            "Concatenated x and y along rows:\n",
            "[[1 2]\n",
            " [3 5]\n",
            " [5 6]\n",
            " [7 8]]\n",
            "Concatenated v and w along columns:\n",
            "[[ 9 11]\n",
            " [10 12]]\n"
          ]
        }
      ]
    },
    {
      "cell_type": "markdown",
      "source": [
        "7. Concatenate x(and)v; if you get an error, observe and explain why did you get the error?\n",
        "\n",
        "Ans: I got an error because v and x didn't have matching dimensions\n",
        "Fixing the error by reshaping v to match x's dimensions"
      ],
      "metadata": {
        "id": "w9qGq3r6MfI7"
      }
    },
    {
      "cell_type": "code",
      "source": [
        "v_reshaped = [np.newaxis, :]  # Reshape v to (1, 2)\n",
        "concat_xv_fixed = np.concatenate((x, v_reshaped), axis=0)\n",
        "print(\"\\nConcatenation of x and reshaped v:\\n\", concat_xv_fixed)"
      ],
      "metadata": {
        "id": "TMntCWtNM5bt",
        "colab": {
          "base_uri": "https://localhost:8080/",
          "height": 106
        },
        "outputId": "2093e573-e66a-4279-bfc0-ad74434c3c41"
      },
      "execution_count": 4,
      "outputs": [
        {
          "output_type": "error",
          "ename": "SyntaxError",
          "evalue": "invalid syntax (<ipython-input-4-398ab7c22f12>, line 1)",
          "traceback": [
            "\u001b[0;36m  File \u001b[0;32m\"<ipython-input-4-398ab7c22f12>\"\u001b[0;36m, line \u001b[0;32m1\u001b[0m\n\u001b[0;31m    v_reshaped = [np.newaxis, :]  # Reshape v to (1, 2)\u001b[0m\n\u001b[0m                              ^\u001b[0m\n\u001b[0;31mSyntaxError\u001b[0m\u001b[0;31m:\u001b[0m invalid syntax\n"
          ]
        }
      ]
    },
    {
      "cell_type": "markdown",
      "source": [
        "**Problem - 4: Matrix Operations:**\n",
        "\n",
        "• For the following arrays:\n",
        "A = np.array([[3,4],[7,8]]) and B = np.array([[5,3],[2,1]]);\n",
        "Prove following with Numpy:\n",
        "1. Prove A.A−1 = I.\n",
        "2. Prove AB ̸= BA.\n",
        "3. Prove (AB)\n",
        "T = BTAT"
      ],
      "metadata": {
        "id": "BzescEsDM6bt"
      }
    },
    {
      "cell_type": "code",
      "source": [
        "import numpy as np\n",
        "\n",
        "A = np.array([[3, 4], [7, 8]])\n",
        "B = np.array([[5, 3], [2, 1]])\n",
        "\n",
        "A_inv = np.linalg.inv(A)\n",
        "\n",
        "result_identity = np.dot(A, A_inv) #Multiplying A matrix and A inverse matrix\n",
        "\n",
        "print(\"A * A^-1:\")\n",
        "print(result_identity)\n"
      ],
      "metadata": {
        "id": "GF4PgAwKNgmf",
        "colab": {
          "base_uri": "https://localhost:8080/"
        },
        "outputId": "6ca94800-476d-4f4c-d949-52dd4102c791"
      },
      "execution_count": 6,
      "outputs": [
        {
          "output_type": "stream",
          "name": "stdout",
          "text": [
            "A * A^-1:\n",
            "[[1.00000000e+00 0.00000000e+00]\n",
            " [1.77635684e-15 1.00000000e+00]]\n"
          ]
        }
      ]
    },
    {
      "cell_type": "markdown",
      "source": [
        "Prove AB ̸= BA."
      ],
      "metadata": {
        "id": "VqBk5vdW7nvj"
      }
    },
    {
      "cell_type": "code",
      "source": [
        "AB = np.dot(A, B)\n",
        "BA = np.dot(B, A)\n",
        "\n",
        "print(\"AB:\")\n",
        "print(AB)\n",
        "\n",
        "print(\"BA:\")\n",
        "print(BA)\n",
        "\n",
        "# Check if AB equals BA\n",
        "are_equal = np.array_equal(AB, BA)\n",
        "print(\"AB = BA:\", are_equal)\n"
      ],
      "metadata": {
        "colab": {
          "base_uri": "https://localhost:8080/"
        },
        "id": "OSfQgV9m8JUb",
        "outputId": "453ce87a-1987-4007-f19f-abf25b296f24"
      },
      "execution_count": 8,
      "outputs": [
        {
          "output_type": "stream",
          "name": "stdout",
          "text": [
            "AB:\n",
            "[[23 13]\n",
            " [51 29]]\n",
            "BA:\n",
            "[[36 44]\n",
            " [13 16]]\n",
            "AB = BA: False\n"
          ]
        }
      ]
    },
    {
      "cell_type": "markdown",
      "source": [
        "3. Prove (AB)T=BTAT(AB)T=BTAT:\n"
      ],
      "metadata": {
        "id": "BYUCZMvs8ZoR"
      }
    },
    {
      "cell_type": "code",
      "source": [
        "AB_transpose = np.transpose(np.dot(A, B))\n",
        "\n",
        "B_transpose = np.transpose(B)\n",
        "A_transpose = np.transpose(A)\n",
        "\n",
        "BT_AT = np.dot(B_transpose, A_transpose)\n",
        "\n",
        "print(\"(AB)^T:\")\n",
        "print(AB_transpose)\n",
        "\n",
        "print(\"B^T A^T:\")\n",
        "print(BT_AT)\n",
        "\n",
        "are_transposes_equal = np.array_equal(AB_transpose, BT_AT)\n",
        "print(\"(AB)^T = B^T A^T:\", are_transposes_equal)\n"
      ],
      "metadata": {
        "colab": {
          "base_uri": "https://localhost:8080/"
        },
        "id": "uRx9kz6b8Y7J",
        "outputId": "f23da655-885a-4658-c023-27530b215a5e"
      },
      "execution_count": 10,
      "outputs": [
        {
          "output_type": "stream",
          "name": "stdout",
          "text": [
            "(AB)^T:\n",
            "[[23 51]\n",
            " [13 29]]\n",
            "B^T A^T:\n",
            "[[23 51]\n",
            " [13 29]]\n",
            "(AB)^T = B^T A^T: True\n"
          ]
        }
      ]
    },
    {
      "cell_type": "markdown",
      "source": [
        "• Solve the following system of Linear equation using Inverse Methods.\n",
        "\n",
        "2x − 3y + z = −1\n",
        "x − y + 2z = −3\n",
        "3x + y − z = 9"
      ],
      "metadata": {
        "id": "LBjlnTch9WSC"
      }
    },
    {
      "cell_type": "code",
      "source": [
        "import numpy as np\n",
        "\n",
        "A = np.array([[2, -3, 1],\n",
        "              [1, -1, 2],\n",
        "              [3, 1, -1]])\n",
        "\n",
        "B = np.array([-1, -3, 9])\n",
        "\n",
        "det_A = (A[0, 0] * (A[1, 1] * A[2, 2] - A[1, 2] * A[2, 1]) -\n",
        "         A[0, 1] * (A[1, 0] * A[2, 2] - A[1, 2] * A[2, 0]) +\n",
        "         A[0, 2] * (A[1, 0] * A[2, 1] - A[1, 1] * A[2, 0]))\n",
        "\n",
        "print(\"Determinant of A:\", det_A)\n",
        "\n",
        "cofactor_matrix = np.array([\n",
        "    [(A[1, 1] * A[2, 2] - A[1, 2] * A[2, 1]), -(A[1, 0] * A[2, 2] - A[1, 2] * A[2, 0]), (A[1, 0] * A[2, 1] - A[1, 1] * A[2, 0])],\n",
        "    [-(A[0, 1] * A[2, 2] - A[0, 2] * A[2, 1]), (A[0, 0] * A[2, 2] - A[0, 2] * A[2, 0]), -(A[0, 0] * A[2, 1] - A[0, 1] * A[2, 0])],\n",
        "    [(A[0, 1] * A[1, 2] - A[0, 2] * A[1, 1]), -(A[0, 0] * A[1, 2] - A[0, 2] * A[1, 0]), (A[0, 0] * A[1, 1] - A[0, 1] * A[1, 0])]\n",
        "])\n",
        "adjoint_A = cofactor_matrix.T\n",
        "inverse_A = adjoint_A / det_A\n",
        "print(\"\\nInverse of A:\\n\", inverse_A)\n",
        "X = np.dot(inverse_A, B)\n",
        "print(\"\\nSolution (x, y, z):\", X)"
      ],
      "metadata": {
        "colab": {
          "base_uri": "https://localhost:8080/"
        },
        "id": "J0UHLBMm9WzI",
        "outputId": "02b8c2c7-f3f5-4d63-d5ba-08cd5118a24c"
      },
      "execution_count": 13,
      "outputs": [
        {
          "output_type": "stream",
          "name": "stdout",
          "text": [
            "Determinant of A: -19\n",
            "\n",
            "Inverse of A:\n",
            " [[ 0.05263158  0.10526316  0.26315789]\n",
            " [-0.36842105  0.26315789  0.15789474]\n",
            " [-0.21052632  0.57894737 -0.05263158]]\n",
            "\n",
            "Solution (x, y, z): [ 2.  1. -2.]\n"
          ]
        }
      ]
    },
    {
      "cell_type": "markdown",
      "source": [
        "• Now: solve the above equation using np.linalg.inv function.{Explore more about ”linalg” function\n",
        "of Numpy}"
      ],
      "metadata": {
        "id": "PNZJoy_d98rG"
      }
    },
    {
      "cell_type": "code",
      "source": [
        "\n",
        "A_inv = np.linalg.inv(A)\n",
        "X = np.dot(A_inv, B)\n",
        "\n",
        "print(\"Solution for [x, y, z]:\")\n",
        "print(X)\n"
      ],
      "metadata": {
        "colab": {
          "base_uri": "https://localhost:8080/"
        },
        "id": "EVrp91e79zw8",
        "outputId": "4d8d7137-3e22-49b9-8659-26a629c6a57a"
      },
      "execution_count": 15,
      "outputs": [
        {
          "output_type": "stream",
          "name": "stdout",
          "text": [
            "Solution for [x, y, z]:\n",
            "[ 2.  1. -2.]\n"
          ]
        }
      ]
    },
    {
      "cell_type": "markdown",
      "source": [
        "4.2 Experiment: How Fast is Numpy?\n",
        "In this exercise, you will compare the performance and implementation of operations using plain Python\n",
        "lists (arrays) and NumPy arrays. Follow the instructions:"
      ],
      "metadata": {
        "id": "GTKK156H-eIS"
      }
    },
    {
      "cell_type": "markdown",
      "source": [
        "1. Element-wise Addition:\n",
        "• Using Python Lists, perform element-wise addition of two lists of size 1, 000, 000. Measure\n",
        "and Print the time taken for this operation.\n",
        "• Using Numpy Arrays, Repeat the calculation and measure and print the time taken for this\n",
        "operation."
      ],
      "metadata": {
        "id": "pS93CJ1MAG0A"
      }
    },
    {
      "cell_type": "code",
      "source": [
        "import numpy as np\n",
        "import time\n",
        "\n",
        "size = 1_000_000\n",
        "list1 = [i for i in range(1_000_000)]\n",
        "list2 = [i for i in range(1_000_000)]\n",
        "start_time = time.time()\n",
        "result_list = [list1[i] + list2[i] for i in range(len(list1))]\n",
        "end_time = time.time()\n",
        "print(f\"Time taken by Python Lists: {end_time - start_time:.5f} seconds\")\n",
        "\n",
        "array1 = np.array(list1)\n",
        "array2 = np.array(list2)\n",
        "\n",
        "start_time = time.time()\n",
        "result_array = array1 + array2\n",
        "end_time = time.time()\n",
        "print(f\"Time taken by numpy: {end_time - start_time:.5f} seconds\\n\")\n"
      ],
      "metadata": {
        "colab": {
          "base_uri": "https://localhost:8080/"
        },
        "id": "Grdb0NdM_E2M",
        "outputId": "57bf0ef3-52ab-4d13-a73c-21639aad3792"
      },
      "execution_count": 19,
      "outputs": [
        {
          "output_type": "stream",
          "name": "stdout",
          "text": [
            "Time taken by Python Lists: 0.16674 seconds\n",
            "Time taken by numpy: 0.00250 seconds\n",
            "\n"
          ]
        }
      ]
    },
    {
      "cell_type": "markdown",
      "source": [
        "2. Element-wise Multiplication\n",
        "\n",
        "• Using Python Lists, perform element-wise multiplication of two lists of size 1, 000, 000. Mea-\n",
        "sure and Print the time taken for this operation.\n",
        "\n",
        "• Using Numpy Arrays, Repeat the calculation and measure and print the time taken for this\n",
        "operation."
      ],
      "metadata": {
        "id": "HrJROyEyAMCF"
      }
    },
    {
      "cell_type": "code",
      "source": [
        "start_time = time.time()\n",
        "list_product = [list1[i] * list2[i] for i in range(size)]\n",
        "end_time = time.time()\n",
        "list_time = end_time - start_time\n",
        "print(f\"Time taken using Python lists: {list_time:.5f} seconds\")\n",
        "\n",
        "start_time = time.time()\n",
        "array_product = array1 * array2\n",
        "end_time = time.time()\n",
        "numpy_time = end_time - start_time\n",
        "print(f\"Time taken using NumPy arrays: {numpy_time:.5f} seconds\")"
      ],
      "metadata": {
        "colab": {
          "base_uri": "https://localhost:8080/"
        },
        "id": "nHEcdevoAMl9",
        "outputId": "0cdc46f2-f35b-4914-a21e-a1ae0f3c004f"
      },
      "execution_count": 21,
      "outputs": [
        {
          "output_type": "stream",
          "name": "stdout",
          "text": [
            "Time taken for multiplication using Python lists: 0.169287 seconds\n",
            "Time taken for multiplication using NumPy arrays: 0.004890 seconds\n"
          ]
        }
      ]
    },
    {
      "cell_type": "markdown",
      "source": [
        "3. Dot Product\n",
        "• Using Python Lists, compute the dot product of two lists of size 1, 000, 000. Measure and\n",
        "Print the time taken for this operation.\n",
        "• Using Numpy Arrays,"
      ],
      "metadata": {
        "id": "4Jfm1S_6A91J"
      }
    },
    {
      "cell_type": "code",
      "source": [
        "start_time = time.time()\n",
        "dot_product_list = sum(list1[i] * list2[i] for i in range(size))\n",
        "end_time = time.time()\n",
        "list_time = end_time - start_time\n",
        "print(f\"Dot product using Python lists: {dot_product_list}\")\n",
        "print(f\"Time taken for dot product using Python lists: {list_time:.6f} seconds\")\n",
        "\n",
        "start_time = time.time()\n",
        "dot_product_numpy = np.dot(array1, array2)\n",
        "end_time = time.time()\n",
        "numpy_time = end_time - start_time\n",
        "print(f\"Dot product using NumPy arrays: {dot_product_numpy}\")\n",
        "print(f\"Time taken for dot product using NumPy arrays: {numpy_time:.6f} seconds\")"
      ],
      "metadata": {
        "colab": {
          "base_uri": "https://localhost:8080/"
        },
        "id": "D6kZk819BXOx",
        "outputId": "fee7f168-180e-464e-bb44-809e0ecc7488"
      },
      "execution_count": 22,
      "outputs": [
        {
          "output_type": "stream",
          "name": "stdout",
          "text": [
            "Dot product using Python lists: 333332833333500000\n",
            "Time taken for dot product using Python lists: 0.278353 seconds\n",
            "Dot product using NumPy arrays: 333332833333500000\n",
            "Time taken for dot product using NumPy arrays: 0.002050 seconds\n"
          ]
        }
      ]
    },
    {
      "cell_type": "markdown",
      "source": [
        "4. Matrix Multiplication\n",
        "• Using Python lists, perform matrix multiplication of two matrices of size 1000x1000. Measure\n",
        "and print the time taken for this operation.\n",
        "\n",
        "• Using NumPy arrays, perform matrix multiplication of two matrices of size 1000x1000. Mea-\n",
        "sure and print the time taken for this operation."
      ],
      "metadata": {
        "id": "9eqd9AHtBj_-"
      }
    },
    {
      "cell_type": "code",
      "source": [
        "\n",
        "size = 1000\n",
        "list_matrix1 = [[j for j in range(size)] for i in range(size)]\n",
        "list_matrix2 = [[j for j in range(size)] for i in range(size)]\n",
        "\n",
        "numpy_matrix1 = np.array(list_matrix1)\n",
        "numpy_matrix2 = np.array(list_matrix2)\n",
        "\n",
        "start_time = time.time()\n",
        "list_result = [[sum(list_matrix1[i][k] * list_matrix2[k][j] for k in range(size)) for j in range(size)] for i in range(size)]\n",
        "end_time = time.time()\n",
        "list_time = end_time - start_time\n",
        "print(f\"Time taken for matrix multiplication using Python lists: {list_time:.6f} seconds\")\n",
        "\n",
        "start_time = time.time()\n",
        "numpy_result = np.dot(numpy_matrix1, numpy_matrix2)\n",
        "end_time = time.time()\n",
        "numpy_time = end_time - start_time\n",
        "print(f\"Time taken for matrix multiplication using NumPy arrays: {numpy_time:.6f} seconds\")\n",
        "\n",
        "# It took to much time and it didn't compile teh output\n"
      ],
      "metadata": {
        "id": "QNoli-sLBmFo"
      },
      "execution_count": null,
      "outputs": []
    }
  ]
}