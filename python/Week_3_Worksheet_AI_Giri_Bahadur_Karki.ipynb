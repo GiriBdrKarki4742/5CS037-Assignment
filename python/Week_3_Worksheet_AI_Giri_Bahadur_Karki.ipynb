{
  "nbformat": 4,
  "nbformat_minor": 0,
  "metadata": {
    "colab": {
      "provenance": []
    },
    "kernelspec": {
      "name": "python3",
      "display_name": "Python 3"
    },
    "language_info": {
      "name": "python"
    }
  },
  "cells": [
    {
      "cell_type": "markdown",
      "source": [
        "Problem 1 - Sorting:\n",
        "1. Create a DataFrame called fare that contains only the Fare column of the Titanic dataset. Print the\n",
        "head of the result.\n",
        "2. Create a DataFrame called class age that contains only the Pclass and Age columns of the Titanic\n",
        "dataset, in that order. Print the head of the result.\n",
        "3. Create a DataFrame called survived gender that contains the Survived and Sex columns of the\n",
        "Titanic dataset, in that order.Print the head of the result."
      ],
      "metadata": {
        "id": "gIoynD40qxWe"
      }
    },
    {
      "cell_type": "code",
      "source": [
        "import pandas as pd\n",
        "titanic_df = pd.read_csv(\"/content/drive/MyDrive/Dataset/Copy of Titanic-Dataset.csv\")\n",
        "\n",
        "fare = titanic_df[['Fare']]\n",
        "print(\"Head of the 'Fare' DataFrame:\")\n",
        "print(fare.head())\n",
        "\n",
        "class_age = titanic_df[['Pclass', 'Age']]\n",
        "print(\"\\nHead of the 'Pclass' and 'Age' DataFrame:\")\n",
        "print(class_age.head())\n",
        "\n",
        "survived_gender = titanic_df[['Survived', 'Sex']]\n",
        "print(\"\\nHead of the 'Survived' and 'Sex' DataFrame:\")\n",
        "print(survived_gender.head())\n"
      ],
      "metadata": {
        "id": "QXjJK0yKls0R",
        "colab": {
          "base_uri": "https://localhost:8080/"
        },
        "outputId": "9b5ea6a4-7147-4cbe-ff88-7af3b57583b5"
      },
      "execution_count": null,
      "outputs": [
        {
          "output_type": "stream",
          "name": "stdout",
          "text": [
            "Head of the 'Fare' DataFrame:\n",
            "      Fare\n",
            "0   7.2500\n",
            "1  71.2833\n",
            "2   7.9250\n",
            "3  53.1000\n",
            "4   8.0500\n",
            "\n",
            "Head of the 'Pclass' and 'Age' DataFrame:\n",
            "   Pclass   Age\n",
            "0       3  22.0\n",
            "1       1  38.0\n",
            "2       3  26.0\n",
            "3       1  35.0\n",
            "4       3  35.0\n",
            "\n",
            "Head of the 'Survived' and 'Sex' DataFrame:\n",
            "   Survived     Sex\n",
            "0         0    male\n",
            "1         1  female\n",
            "2         1  female\n",
            "3         1  female\n",
            "4         0    male\n"
          ]
        }
      ]
    },
    {
      "cell_type": "markdown",
      "source": [
        "Problem - 2 - Subsetting:\n",
        "Complete all the following Task:\n",
        "Subsetting Rows:\n",
        "1. Filter the Titanic dataset for cases where the passenger’s fare is greater than 100, assigning it\n",
        "to fare gt 100.View the printed result.\n",
        "2. Filter the Titanic dataset for cases where the passenger’s class (Pclass) is 1, assigning it to\n",
        "first class.View the printed result.\n",
        "3. Filter the Titanic dataset for cases where the passenger’s age is less than 18 and the passenger\n",
        "is female (Sex is \"female\"), assigning it to female under 18. View the printed result.\n",
        "Subsetting Rows by Categorical variables:\n",
        "1. Filter the Titanic dataset for passengers whose Embarked port is either \"C\" (Cherbourg) or \"S\"\n",
        "(Southampton), assigning the result to embarked c or s. View the printed result.\n",
        "2. Filter the Titanic dataset for passengers whose Pclass is in the list [1, 2] (indicating first\n",
        "or second class), assigning the result to first second class.View the printed result."
      ],
      "metadata": {
        "id": "hHYfEd7Fqv_d"
      }
    },
    {
      "cell_type": "code",
      "source": [
        "fare_gt_100 = titanic_df[titanic_df['Fare'] > 100]\n",
        "print(\"Passengers with Fare > 100:\")\n",
        "print(fare_gt_100.head())\n",
        "\n",
        "first_class = titanic_df[titanic_df['Pclass'] == 1]\n",
        "print(\"\\nPassengers in Pclass 1:\")\n",
        "print(first_class.head())\n",
        "\n",
        "female_under_18 = titanic_df[(titanic_df['Age'] < 18) & (titanic_df['Sex'] == 'female')]\n",
        "print(\"\\nFemale passengers under 18:\")\n",
        "print(female_under_18.head())\n",
        "\n",
        "# Subsetting Rows by Categorical Variables\n",
        "\n",
        "embarked_c_or_s = titanic_df[titanic_df['Embarked'].isin(['C', 'S'])]\n",
        "print(\"\\nPassengers who embarked at C or S:\")\n",
        "print(embarked_c_or_s.head())\n",
        "\n",
        "first_second_class = titanic_df[titanic_df['Pclass'].isin([1, 2])]\n",
        "print(\"\\nPassengers in Pclass 1 or 2:\")\n",
        "print(first_second_class.head())"
      ],
      "metadata": {
        "colab": {
          "base_uri": "https://localhost:8080/"
        },
        "id": "WXH0xKqgsCnI",
        "outputId": "50c09192-1677-412b-a246-5a01c4b3aabd"
      },
      "execution_count": null,
      "outputs": [
        {
          "output_type": "stream",
          "name": "stdout",
          "text": [
            "Passengers with Fare > 100:\n",
            "     PassengerId  Survived  Pclass  \\\n",
            "27            28         0       1   \n",
            "31            32         1       1   \n",
            "88            89         1       1   \n",
            "118          119         0       1   \n",
            "195          196         1       1   \n",
            "\n",
            "                                               Name     Sex   Age  SibSp  \\\n",
            "27                   Fortune, Mr. Charles Alexander    male  19.0      3   \n",
            "31   Spencer, Mrs. William Augustus (Marie Eugenie)  female   NaN      1   \n",
            "88                       Fortune, Miss. Mabel Helen  female  23.0      3   \n",
            "118                        Baxter, Mr. Quigg Edmond    male  24.0      0   \n",
            "195                            Lurette, Miss. Elise  female  58.0      0   \n",
            "\n",
            "     Parch    Ticket      Fare        Cabin Embarked  \n",
            "27       2     19950  263.0000  C23 C25 C27        S  \n",
            "31       0  PC 17569  146.5208          B78        C  \n",
            "88       2     19950  263.0000  C23 C25 C27        S  \n",
            "118      1  PC 17558  247.5208      B58 B60        C  \n",
            "195      0  PC 17569  146.5208          B80        C  \n",
            "\n",
            "Passengers in Pclass 1:\n",
            "    PassengerId  Survived  Pclass  \\\n",
            "1             2         1       1   \n",
            "3             4         1       1   \n",
            "6             7         0       1   \n",
            "11           12         1       1   \n",
            "23           24         1       1   \n",
            "\n",
            "                                                 Name     Sex   Age  SibSp  \\\n",
            "1   Cumings, Mrs. John Bradley (Florence Briggs Th...  female  38.0      1   \n",
            "3        Futrelle, Mrs. Jacques Heath (Lily May Peel)  female  35.0      1   \n",
            "6                             McCarthy, Mr. Timothy J    male  54.0      0   \n",
            "11                           Bonnell, Miss. Elizabeth  female  58.0      0   \n",
            "23                       Sloper, Mr. William Thompson    male  28.0      0   \n",
            "\n",
            "    Parch    Ticket     Fare Cabin Embarked  \n",
            "1       0  PC 17599  71.2833   C85        C  \n",
            "3       0    113803  53.1000  C123        S  \n",
            "6       0     17463  51.8625   E46        S  \n",
            "11      0    113783  26.5500  C103        S  \n",
            "23      0    113788  35.5000    A6        S  \n",
            "\n",
            "Female passengers under 18:\n",
            "    PassengerId  Survived  Pclass                                  Name  \\\n",
            "9            10         1       2   Nasser, Mrs. Nicholas (Adele Achem)   \n",
            "10           11         1       3       Sandstrom, Miss. Marguerite Rut   \n",
            "14           15         0       3  Vestrom, Miss. Hulda Amanda Adolfina   \n",
            "22           23         1       3           McGowan, Miss. Anna \"Annie\"   \n",
            "24           25         0       3         Palsson, Miss. Torborg Danira   \n",
            "\n",
            "       Sex   Age  SibSp  Parch   Ticket     Fare Cabin Embarked  \n",
            "9   female  14.0      1      0   237736  30.0708   NaN        C  \n",
            "10  female   4.0      1      1  PP 9549  16.7000    G6        S  \n",
            "14  female  14.0      0      0   350406   7.8542   NaN        S  \n",
            "22  female  15.0      0      0   330923   8.0292   NaN        Q  \n",
            "24  female   8.0      3      1   349909  21.0750   NaN        S  \n",
            "\n",
            "Passengers who embarked at C or S:\n",
            "   PassengerId  Survived  Pclass  \\\n",
            "0            1         0       3   \n",
            "1            2         1       1   \n",
            "2            3         1       3   \n",
            "3            4         1       1   \n",
            "4            5         0       3   \n",
            "\n",
            "                                                Name     Sex   Age  SibSp  \\\n",
            "0                            Braund, Mr. Owen Harris    male  22.0      1   \n",
            "1  Cumings, Mrs. John Bradley (Florence Briggs Th...  female  38.0      1   \n",
            "2                             Heikkinen, Miss. Laina  female  26.0      0   \n",
            "3       Futrelle, Mrs. Jacques Heath (Lily May Peel)  female  35.0      1   \n",
            "4                           Allen, Mr. William Henry    male  35.0      0   \n",
            "\n",
            "   Parch            Ticket     Fare Cabin Embarked  \n",
            "0      0         A/5 21171   7.2500   NaN        S  \n",
            "1      0          PC 17599  71.2833   C85        C  \n",
            "2      0  STON/O2. 3101282   7.9250   NaN        S  \n",
            "3      0            113803  53.1000  C123        S  \n",
            "4      0            373450   8.0500   NaN        S  \n",
            "\n",
            "Passengers in Pclass 1 or 2:\n",
            "    PassengerId  Survived  Pclass  \\\n",
            "1             2         1       1   \n",
            "3             4         1       1   \n",
            "6             7         0       1   \n",
            "9            10         1       2   \n",
            "11           12         1       1   \n",
            "\n",
            "                                                 Name     Sex   Age  SibSp  \\\n",
            "1   Cumings, Mrs. John Bradley (Florence Briggs Th...  female  38.0      1   \n",
            "3        Futrelle, Mrs. Jacques Heath (Lily May Peel)  female  35.0      1   \n",
            "6                             McCarthy, Mr. Timothy J    male  54.0      0   \n",
            "9                 Nasser, Mrs. Nicholas (Adele Achem)  female  14.0      1   \n",
            "11                           Bonnell, Miss. Elizabeth  female  58.0      0   \n",
            "\n",
            "    Parch    Ticket     Fare Cabin Embarked  \n",
            "1       0  PC 17599  71.2833   C85        C  \n",
            "3       0    113803  53.1000  C123        S  \n",
            "6       0     17463  51.8625   E46        S  \n",
            "9       0    237736  30.0708   NaN        C  \n",
            "11      0    113783  26.5500  C103        S  \n"
          ]
        }
      ]
    },
    {
      "cell_type": "markdown",
      "source": [
        "**3.2 Exploratory Data Analysis Practice Exercise - 1.**\n",
        "Warning: Handle missing values in the Age column by filling them with the median age of\n",
        "\n",
        "the dataset before performing the division.\n",
        "\n",
        "Answer the following questions from Dataset:\n",
        "Which passenger had the highest fare paid relative to their age?\n",
        "To answer the question perform following operations:\n",
        "1. Add a column to the Titanic dataset, fare per year, containing the fare divided by the age of\n",
        "the passenger(i.e., Fare/Age).\n",
        "2. Subset rows where fare per year is higher than 5, assigning this to high fare age.\n",
        "3. Sort high fare age by descending fare per year, assigning this to high fare age srt.\n",
        "4. Select only the Name and fare per year columns of high fare age srt and save the result as result.\n",
        "5. Look at the result."
      ],
      "metadata": {
        "id": "ryr8ImgJt6IV"
      }
    },
    {
      "cell_type": "code",
      "source": [
        "median_age = titanic_df[\"Age\"].median(skipna=True)\n",
        "titanic_df[\"Age\"].fillna(median_age, inplace=True)\n",
        "\n",
        "titanic_df[\"Age\"] = titanic_df[\"Age\"].replace(0, 1e-6)\n",
        "titanic_df[\"fare_per_year\"] = titanic_df[\"Fare\"] / titanic_df[\"Age\"]\n",
        "\n",
        "high_fare_age = titanic_df[titanic_df[\"fare_per_year\"] > 5]\n",
        "\n",
        "high_fare_age_srt = high_fare_age.sort_values(by=\"fare_per_year\", ascending=False)\n",
        "\n",
        "result = high_fare_age_srt[[\"Name\", \"fare_per_year\"]]\n",
        "print(result);"
      ],
      "metadata": {
        "colab": {
          "base_uri": "https://localhost:8080/"
        },
        "id": "D2tKraWouBF0",
        "outputId": "25df9f88-b968-47aa-fe16-248416ed41ae"
      },
      "execution_count": null,
      "outputs": [
        {
          "output_type": "stream",
          "name": "stdout",
          "text": [
            "                                               Name  fare_per_year\n",
            "305                  Allison, Master. Hudson Trevor     164.728261\n",
            "297                    Allison, Miss. Helen Loraine      75.775000\n",
            "386                 Goodwin, Master. Sidney Leonard      46.900000\n",
            "164                    Panula, Master. Eino Viljami      39.687500\n",
            "183                       Becker, Master. Richard F      39.000000\n",
            "..                                              ...            ...\n",
            "348          Coutts, Master. William Loch \"William\"       5.300000\n",
            "31   Spencer, Mrs. William Augustus (Marie Eugenie)       5.232886\n",
            "205                      Strom, Miss. Telma Matilda       5.231250\n",
            "813              Andersson, Miss. Ebba Iris Alfrida       5.212500\n",
            "480                  Goodwin, Master. Harold Victor       5.211111\n",
            "\n",
            "[71 rows x 2 columns]\n"
          ]
        },
        {
          "output_type": "stream",
          "name": "stderr",
          "text": [
            "<ipython-input-7-68f8836dbd5b>:2: FutureWarning: A value is trying to be set on a copy of a DataFrame or Series through chained assignment using an inplace method.\n",
            "The behavior will change in pandas 3.0. This inplace method will never work because the intermediate object on which we are setting values always behaves as a copy.\n",
            "\n",
            "For example, when doing 'df[col].method(value, inplace=True)', try using 'df.method({col: value}, inplace=True)' or df[col] = df[col].method(value) instead, to perform the operation inplace on the original object.\n",
            "\n",
            "\n",
            "  titanic_df[\"Age\"].fillna(median_age, inplace=True)\n"
          ]
        }
      ]
    },
    {
      "cell_type": "markdown",
      "source": [
        "**Which adult male passenger (age ≥ 18 and Sex is ’male’) paid the highest fare relative to their class?**\n",
        "To answer the question perform following operations:\n",
        "1. Add a column to the Titanic dataset, fare per class, containing the fare divided by the passenger\n",
        "class i.e. Fare / Pclass.\n",
        "2. Subset rows where the passenger is male (Sex is ”male”) and an adult (Age is greater than or equal\n",
        "to 18), assigning this to adult males.\n",
        "3. Sort adult males by descending fare per class, assigning this to adult males srt.\n",
        "4. Select only the Name, Age, and fare per class columns of adult males sr and save the result\n",
        "as result.\n",
        "5. Look at the result."
      ],
      "metadata": {
        "id": "oXCxjUsBwWfY"
      }
    },
    {
      "cell_type": "code",
      "source": [
        "titanic_df[\"fare_per_class\"] = titanic_df[\"Fare\"] / titanic_df[\"Pclass\"]\n",
        "adult_males = titanic_df[(titanic_df[\"Sex\"] == \"male\") & (titanic_df[\"Age\"] >= 18)]\n",
        "adult_males_srt = adult_males.sort_values(by=\"fare_per_class\", ascending=False)\n",
        "result = adult_males_srt[[\"Name\", \"Age\", \"fare_per_class\"]]\n",
        "\n",
        "print(result)\n"
      ],
      "metadata": {
        "id": "EtMJbiXLwar-",
        "colab": {
          "base_uri": "https://localhost:8080/"
        },
        "outputId": "522e5a51-c051-4d57-846c-6a02c146919f"
      },
      "execution_count": 8,
      "outputs": [
        {
          "output_type": "stream",
          "name": "stdout",
          "text": [
            "                                   Name   Age  fare_per_class\n",
            "737              Lesurer, Mr. Gustave J  35.0        512.3292\n",
            "679  Cardeza, Mr. Thomas Drake Martinez  36.0        512.3292\n",
            "438                   Fortune, Mr. Mark  64.0        263.0000\n",
            "27       Fortune, Mr. Charles Alexander  19.0        263.0000\n",
            "118            Baxter, Mr. Quigg Edmond  24.0        247.5208\n",
            "..                                  ...   ...             ...\n",
            "806              Andrews, Mr. Thomas Jr  39.0          0.0000\n",
            "481    Frost, Mr. Anthony Wood \"Archie\"  28.0          0.0000\n",
            "413      Cunningham, Mr. Alfred Fleming  28.0          0.0000\n",
            "466               Campbell, Mr. William  28.0          0.0000\n",
            "271        Tornquist, Mr. William Henry  25.0          0.0000\n",
            "\n",
            "[519 rows x 3 columns]\n"
          ]
        }
      ]
    },
    {
      "cell_type": "markdown",
      "source": [
        "**3.3 Exploratory Data Analysis with Group-by Method Practice Exercise:\n",
        "Based on the dataset Answer the following question:**\n",
        "What percent of the total fare revenue came from each passenger class?\n",
        "To answer the question perform following operation:\n",
        "1. Calculate the total Fare paid across all passengers in the Titanic dataset.\n",
        "2. Subset for passengers in first class (Pclass is 1) and calculate their total fare.\n",
        "3. Do the same for second class (Pclass is 2) and third class (Pclass is 3).\n",
        "4. Combine the fare totals from first, second, and third classes into a list.\n",
        "5. Divide the totals for each class by the overall total fare to get the proportion of fare revenue by class.\n",
        "Based on the dataset Answer the following question:"
      ],
      "metadata": {
        "id": "aPTcyibJwtC2"
      }
    },
    {
      "cell_type": "code",
      "source": [
        "total_fare = titanic_df[\"Fare\"].sum()\n",
        "first_class_fare = titanic_df[titanic_df[\"Pclass\"] == 1][\"Fare\"].sum()\n",
        "second_class_fare = titanic_df[titanic_df[\"Pclass\"] == 2][\"Fare\"].sum()\n",
        "third_class_fare = titanic_df[titanic_df[\"Pclass\"] == 3][\"Fare\"].sum()\n",
        "fare_totals = [first_class_fare, second_class_fare, third_class_fare]\n",
        "fare_proportions = [fare / total_fare * 100 for fare in fare_totals]\n",
        "class_labels = [\"First Class\", \"Second Class\", \"Third Class\"]\n",
        "result = dict(zip(class_labels, fare_proportions))\n",
        "print(result)\n"
      ],
      "metadata": {
        "colab": {
          "base_uri": "https://localhost:8080/"
        },
        "id": "wWpCn-Nzwvuz",
        "outputId": "c3bca34c-86a0-4b0a-95c8-fd4b81ce3019"
      },
      "execution_count": 9,
      "outputs": [
        {
          "output_type": "stream",
          "name": "stdout",
          "text": [
            "{'First Class': 63.349287718996564, 'Second Class': 13.24962855496507, 'Third Class': 23.401083726038365}\n"
          ]
        }
      ]
    },
    {
      "cell_type": "markdown",
      "source": [
        "**What percent of the total number of passengers on the Titanic belonged to each age group**\n",
        "(e.g., child, adult, senior)?\n",
        "To answer the question perform following operation:\n",
        "1. Create a new column, age group, that categorizes passengers into \"child\" (age < 18), \"adult\" (age\n",
        "18{64), and \"senior\" (age 65 and above).\n",
        "2. Calculate the total number of passengers on the Titanic.\n",
        "3. Count the number of passengers in each age group.\n",
        "4. Divide the count of each age group by the total number of passengers to get the proportion of passengers\n",
        "in each age group.\n",
        "5. Display the proportion as a percentage."
      ],
      "metadata": {
        "id": "ISI8ijK-w60V"
      }
    },
    {
      "cell_type": "code",
      "source": [
        "def categorize_age(age):\n",
        "    if age < 18:\n",
        "        return \"child\"\n",
        "    elif age <= 64:\n",
        "        return \"adult\"\n",
        "    else:\n",
        "        return \"senior\"\n",
        "\n",
        "titanic_df[\"age_group\"] = titanic_df[\"Age\"].apply(categorize_age)\n",
        "total_passengers = len(titanic_df)\n",
        "age_group_counts = titanic_df[\"age_group\"].value_counts()\n",
        "age_group_proportions = (age_group_counts / total_passengers) * 100\n",
        "result = age_group_proportions.to_dict()\n",
        "print(result)\n"
      ],
      "metadata": {
        "colab": {
          "base_uri": "https://localhost:8080/"
        },
        "id": "YIO6hKO4w-Io",
        "outputId": "86e6af40-6ce9-4923-ddc1-19019a1255a7"
      },
      "execution_count": 10,
      "outputs": [
        {
          "output_type": "stream",
          "name": "stdout",
          "text": [
            "{'adult': 86.08305274971941, 'child': 12.682379349046016, 'senior': 1.2345679012345678}\n"
          ]
        }
      ]
    }
  ]
}